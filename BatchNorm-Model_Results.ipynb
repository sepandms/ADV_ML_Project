{
 "cells": [
  {
   "cell_type": "code",
   "execution_count": 1,
   "metadata": {},
   "outputs": [],
   "source": [
    "import argparse\n",
    "import os\n",
    "import psutil\n",
    "import shutil\n",
    "import subprocess\n",
    "import time\n",
    "\n",
    "import torch\n",
    "import torch.nn as nn\n",
    "import torch.nn.parallel\n",
    "import torch.backends.cudnn as cudnn\n",
    "import torch.optim\n",
    "import torch.utils.data\n",
    "import torchvision.transforms as transforms\n",
    "import torchvision.datasets as datasets\n",
    "import resnet\n",
    "from torchsummary import summary\n",
    "device = 'cpu'\n",
    "models_path = \"./checkpoints-2022-12-15/\""
   ]
  },
  {
   "cell_type": "code",
   "execution_count": 2,
   "metadata": {},
   "outputs": [],
   "source": [
    "normalize = transforms.Normalize(mean=[0.485, 0.456, 0.406],\n",
    "                                    std=[0.229, 0.224, 0.225])"
   ]
  },
  {
   "cell_type": "code",
   "execution_count": 3,
   "metadata": {},
   "outputs": [
    {
     "name": "stdout",
     "output_type": "stream",
     "text": [
      "Downloading https://www.cs.toronto.edu/~kriz/cifar-10-python.tar.gz to ./data/cifar-10-python.tar.gz\n"
     ]
    },
    {
     "data": {
      "application/vnd.jupyter.widget-view+json": {
       "model_id": "64f67581a80842da95f6440e93be4e16",
       "version_major": 2,
       "version_minor": 0
      },
      "text/plain": [
       "  0%|          | 0/170498071 [00:00<?, ?it/s]"
      ]
     },
     "metadata": {},
     "output_type": "display_data"
    },
    {
     "name": "stdout",
     "output_type": "stream",
     "text": [
      "Extracting ./data/cifar-10-python.tar.gz to ./data\n"
     ]
    },
    {
     "ename": "NameError",
     "evalue": "name 'args' is not defined",
     "output_type": "error",
     "traceback": [
      "\u001b[0;31m---------------------------------------------------------------------------\u001b[0m",
      "\u001b[0;31mNameError\u001b[0m                                 Traceback (most recent call last)",
      "\u001b[0;32m/var/folders/jr/h5q7lybd23l1htckxf1x0dnr0000gn/T/ipykernel_10257/3559146560.py\u001b[0m in \u001b[0;36m<cell line: 1>\u001b[0;34m()\u001b[0m\n\u001b[1;32m      7\u001b[0m         \u001b[0mnormalize\u001b[0m\u001b[0;34m,\u001b[0m\u001b[0;34m\u001b[0m\u001b[0;34m\u001b[0m\u001b[0m\n\u001b[1;32m      8\u001b[0m     ]), download=True),\n\u001b[0;32m----> 9\u001b[0;31m     \u001b[0mbatch_size\u001b[0m\u001b[0;34m=\u001b[0m\u001b[0margs\u001b[0m\u001b[0;34m.\u001b[0m\u001b[0mbatch_size\u001b[0m\u001b[0;34m,\u001b[0m \u001b[0mshuffle\u001b[0m\u001b[0;34m=\u001b[0m\u001b[0;32mTrue\u001b[0m\u001b[0;34m,\u001b[0m\u001b[0;34m\u001b[0m\u001b[0;34m\u001b[0m\u001b[0m\n\u001b[0m\u001b[1;32m     10\u001b[0m     num_workers=args.workers, pin_memory=True)\n\u001b[1;32m     11\u001b[0m \u001b[0;34m\u001b[0m\u001b[0m\n",
      "\u001b[0;31mNameError\u001b[0m: name 'args' is not defined"
     ]
    }
   ],
   "source": [
    "train_loader = torch.utils.data.DataLoader(\n",
    "    datasets.CIFAR10(root='./data', train=True, transform=transforms.Compose([\n",
    "        transforms.RandomHorizontalFlip(),\n",
    "        #transforms.RandomCrop(32, 4),\n",
    "        transforms.RandomAffine(degrees=0, translate=(0.125, 0.125)),\n",
    "        transforms.ToTensor(),\n",
    "        normalize,\n",
    "    ]), download=True),\n",
    "    batch_size=128, shuffle=True,\n",
    "    num_workers=1, pin_memory=True)\n",
    "\n",
    "val_loader = torch.utils.data.DataLoader(\n",
    "    datasets.CIFAR10(root='./data', train=False, transform=transforms.Compose([\n",
    "        transforms.ToTensor(),\n",
    "        normalize,\n",
    "    ])),\n",
    "    batch_size=128, shuffle=False,\n",
    "    num_workers=1, pin_memory=True)"
   ]
  },
  {
   "cell_type": "code",
   "execution_count": 42,
   "metadata": {},
   "outputs": [],
   "source": [
    "normalize = transforms.Normalize(mean=[0.485, 0.456, 0.406],std=[0.229, 0.224, 0.225])\n",
    "\n",
    "val_loader = torch.utils.data.DataLoader(\n",
    "    datasets.CIFAR10(root='./data', train=False, transform=transforms.Compose([\n",
    "        transforms.ToTensor(),\n",
    "        normalize,\n",
    "    ])),\n",
    "    batch_size=64, shuffle=False,\n",
    "    num_workers=2, pin_memory=True)\n",
    "\n",
    "criterion = nn.CrossEntropyLoss().to(device)\n",
    "\n",
    "def validate(val_loader, model, criterion):\n",
    "    \"\"\"\n",
    "    Run evaluation\n",
    "    \"\"\"\n",
    "    batch_time = AverageMeter()\n",
    "    losses = AverageMeter()\n",
    "    top1 = AverageMeter()\n",
    "\n",
    "    # switch to evaluate mode\n",
    "    model.eval()\n",
    "\n",
    "    end = time.time()\n",
    "    with torch.no_grad():\n",
    "        for i, (input, target) in enumerate(val_loader):\n",
    "            target = target.to(device)\n",
    "            input_var = input.to(device)\n",
    "            target_var = target.to(device)\n",
    "\n",
    "            # if args.half:\n",
    "            #     input_var = input_var.half()\n",
    "\n",
    "            # compute output\n",
    "            output = model(input_var)\n",
    "            loss = criterion(output, target_var)\n",
    "\n",
    "            output = output.float()\n",
    "            loss = loss.float()\n",
    "\n",
    "            # measure accuracy and record loss\n",
    "            prec1 = accuracy(output.data, target)[0]\n",
    "            losses.update(loss.item(), input.size(0))\n",
    "            top1.update(prec1.item(), input.size(0))\n",
    "\n",
    "            # measure elapsed time\n",
    "            batch_time.update(time.time() - end)\n",
    "            end = time.time()\n",
    "\n",
    "            if i % 100000 == -1:\n",
    "                print('Test: [{0}/{1}]\\t'\n",
    "                      'Time {batch_time.val:.3f} ({batch_time.avg:.3f})\\t'\n",
    "                      'Loss {loss.val:.4f} ({loss.avg:.4f})\\t'\n",
    "                      'Prec@1 {top1.val:.3f} ({top1.avg:.3f})'.format(\n",
    "                          i, len(val_loader), batch_time=batch_time, loss=losses,\n",
    "                          top1=top1))\n",
    "\n",
    "    # print(' * Prec@1 {top1.avg:.3f}'\n",
    "    #       .format(top1=top1))\n",
    "\n",
    "    return top1.avg\n",
    "\n",
    "\n",
    "class AverageMeter(object):\n",
    "    \"\"\"Computes and stores the average and current value\"\"\"\n",
    "    def __init__(self):\n",
    "        self.reset()\n",
    "\n",
    "    def reset(self):\n",
    "        self.val = 0\n",
    "        self.avg = 0\n",
    "        self.sum = 0\n",
    "        self.count = 0\n",
    "\n",
    "    def update(self, val, n=1):\n",
    "        self.val = val\n",
    "        self.sum += val * n\n",
    "        self.count += n\n",
    "        self.avg = self.sum / self.count\n",
    "\n",
    "def accuracy(output, target, topk=(1,)):\n",
    "    \"\"\"Computes the precision@k for the specified values of k\"\"\"\n",
    "    maxk = max(topk)\n",
    "    batch_size = target.size(0)\n",
    "\n",
    "    _, pred = output.topk(maxk, 1, True, True)\n",
    "    pred = pred.t()\n",
    "    correct = pred.eq(target.view(1, -1).expand_as(pred))\n",
    "\n",
    "    res = []\n",
    "    for k in topk:\n",
    "        correct_k = correct[:k].view(-1).float().sum(0)\n",
    "        res.append(correct_k.mul_(100.0 / batch_size))\n",
    "    return res"
   ]
  },
  {
   "cell_type": "code",
   "execution_count": 36,
   "metadata": {},
   "outputs": [],
   "source": [
    "experiment = {'bn':'Batch-Norm','full':'All params','nobn':'no Batch-Norm','random':'random'}\n",
    "res_ = ['resnet14', 'resnet32','resnet56', 'resnet110', 'resnet218','resnet434']\n",
    "res_ = ['resnet14']"
   ]
  },
  {
   "cell_type": "code",
   "execution_count": 38,
   "metadata": {},
   "outputs": [
    {
     "name": "stdout",
     "output_type": "stream",
     "text": [
      "#---------------------   resnet14-Batch-Norm  -------------------------#\n",
      "Model:  resnet14-Batch-Norm  Test accuracy:  48.04\n",
      "#---------------------   resnet14-All params  -------------------------#\n",
      "Model:  resnet14-All params  Test accuracy:  90.51\n",
      "#---------------------   resnet14-no Batch-Norm  -------------------------#\n",
      "Model:  resnet14-no Batch-Norm  Test accuracy:  89.24\n",
      "#---------------------   resnet14-random  -------------------------#\n",
      "Model:  resnet14-random  Test accuracy:  66.04\n"
     ]
    }
   ],
   "source": [
    "for res in res_:\n",
    "    for k in experiment.keys():\n",
    "        model_type = res + '-' + k \n",
    "        net_name = res +'()'\n",
    "        model_label = res + '-' + experiment[k] \n",
    "        # print(net_name,model_type, model_label)\n",
    "        exec(f'model = resnet.{net_name}')\n",
    "        model.load_state_dict(torch.load(models_path + model_type + '/model.th',map_location=torch.device('cpu'))['state_dict'])\n",
    "        model.eval()\n",
    "       \n",
    "        print('#---------------------  ',model_label , ' -------------------------#')\n",
    "        val_perc = validate(val_loader, model, criterion)\n",
    "        print('Model: ', model_label, ' Test accuracy: ',val_perc)\n",
    "        \n"
   ]
  },
  {
   "cell_type": "code",
   "execution_count": 43,
   "metadata": {},
   "outputs": [
    {
     "name": "stdout",
     "output_type": "stream",
     "text": [
      "#---------------------   resnet14-Batch-Norm  -------------------------#\n",
      "Model:  resnet14-Batch-Norm  Test accuracy:  48.04\n",
      "#---------------------   resnet14-All params  -------------------------#\n",
      "Model:  resnet14-All params  Test accuracy:  90.51\n",
      "#---------------------   resnet14-no Batch-Norm  -------------------------#\n",
      "Model:  resnet14-no Batch-Norm  Test accuracy:  89.24\n",
      "#---------------------   resnet14-random  -------------------------#\n",
      "Model:  resnet14-random  Test accuracy:  66.04\n",
      "#---------------------   resnet32-Batch-Norm  -------------------------#\n",
      "Model:  resnet32-Batch-Norm  Test accuracy:  57.43\n",
      "#---------------------   resnet32-All params  -------------------------#\n",
      "Model:  resnet32-All params  Test accuracy:  91.86\n",
      "#---------------------   resnet32-no Batch-Norm  -------------------------#\n",
      "Model:  resnet32-no Batch-Norm  Test accuracy:  91.24\n",
      "#---------------------   resnet32-random  -------------------------#\n",
      "Model:  resnet32-random  Test accuracy:  75.74\n",
      "#---------------------   resnet56-Batch-Norm  -------------------------#\n",
      "Model:  resnet56-Batch-Norm  Test accuracy:  62.21\n",
      "#---------------------   resnet56-All params  -------------------------#\n",
      "Model:  resnet56-All params  Test accuracy:  93.17\n",
      "#---------------------   resnet56-no Batch-Norm  -------------------------#\n",
      "Model:  resnet56-no Batch-Norm  Test accuracy:  92.01\n",
      "#---------------------   resnet56-random  -------------------------#\n",
      "Model:  resnet56-random  Test accuracy:  77.64\n",
      "#---------------------   resnet110-Batch-Norm  -------------------------#\n",
      "Model:  resnet110-Batch-Norm  Test accuracy:  70.27\n",
      "#---------------------   resnet110-All params  -------------------------#\n",
      "Model:  resnet110-All params  Test accuracy:  91.99\n",
      "#---------------------   resnet110-no Batch-Norm  -------------------------#\n",
      "Model:  resnet110-no Batch-Norm  Test accuracy:  92.49\n",
      "#---------------------   resnet110-random  -------------------------#\n",
      "Model:  resnet110-random  Test accuracy:  79.78\n",
      "#---------------------   resnet218-Batch-Norm  -------------------------#\n"
     ]
    },
    {
     "ename": "",
     "evalue": "",
     "output_type": "error",
     "traceback": [
      "\u001b[1;31mThe Kernel crashed while executing code in the the current cell or a previous cell. Please review the code in the cell(s) to identify a possible cause of the failure. Click <a href='https://aka.ms/vscodeJupyterKernelCrash'>here</a> for more info. View Jupyter <a href='command:jupyter.viewOutput'>log</a> for further details."
     ]
    },
    {
     "ename": "",
     "evalue": "",
     "output_type": "error",
     "traceback": [
      "\u001b[1;31mCanceled future for execute_request message before replies were done"
     ]
    }
   ],
   "source": [
    "experiment = {'bn':'Batch-Norm','full':'All params','nobn':'no Batch-Norm','random':'random'}\n",
    "res_ = ['resnet14', 'resnet32','resnet56', 'resnet110', 'resnet218','resnet434']\n",
    "\n",
    "for res in res_:\n",
    "    for k in experiment.keys():\n",
    "        model_type = res + '-' + k \n",
    "        net_name = res +'()'\n",
    "        model_label = res + '-' + experiment[k] \n",
    "        # print(net_name,model_type, model_label)\n",
    "        exec(f'model = resnet.{net_name}')\n",
    "        model.load_state_dict(torch.load(models_path + model_type + '/model.th',map_location=torch.device('cpu'))['state_dict'])\n",
    "        model.eval()\n",
    "       \n",
    "        print('#---------------------  ',model_label , ' -------------------------#')\n",
    "        val_perc = validate(val_loader, model, criterion)\n",
    "        print('Model: ', model_label, ' Test accuracy: ',val_perc)"
   ]
  },
  {
   "cell_type": "code",
   "execution_count": 50,
   "metadata": {},
   "outputs": [
    {
     "data": {
      "text/plain": [
       "0.49551416102506685"
      ]
     },
     "execution_count": 50,
     "metadata": {},
     "output_type": "execute_result"
    }
   ],
   "source": [
    "rand_list = []\n",
    "\n",
    "for i in range(1000):\n",
    "    rand_list.append(np.random.random(1)[0])\n",
    "np.mean(rand_list)"
   ]
  },
  {
   "cell_type": "code",
   "execution_count": null,
   "metadata": {},
   "outputs": [],
   "source": []
  },
  {
   "cell_type": "code",
   "execution_count": null,
   "metadata": {},
   "outputs": [],
   "source": []
  }
 ],
 "metadata": {
  "kernelspec": {
   "display_name": "Python 3.8.9 64-bit",
   "language": "python",
   "name": "python3"
  },
  "language_info": {
   "codemirror_mode": {
    "name": "ipython",
    "version": 3
   },
   "file_extension": ".py",
   "mimetype": "text/x-python",
   "name": "python",
   "nbconvert_exporter": "python",
   "pygments_lexer": "ipython3",
   "version": "3.8.9"
  },
  "orig_nbformat": 4,
  "vscode": {
   "interpreter": {
    "hash": "31f2aee4e71d21fbe5cf8b01ff0e069b9275f58929596ceb00d14d90e3e16cd6"
   }
  }
 },
 "nbformat": 4,
 "nbformat_minor": 2
}
