{
  "cells": [
    {
      "cell_type": "code",
      "source": [
        "try:\n",
        "  from google.colab import drive\n",
        "  drive.mount('/content/drive')\n",
        "  import os\n",
        "  CWD = '/content/drive/MyDrive/ADV_ML_Project'\n",
        "  os.chdir(CWD)\n",
        "except:None"
      ],
      "metadata": {
        "id": "1c4HS6mcuQyx",
        "outputId": "711cd6e3-cf8f-44aa-8def-eeda749b0219",
        "colab": {
          "base_uri": "https://localhost:8080/"
        }
      },
      "execution_count": 15,
      "outputs": [
        {
          "output_type": "stream",
          "name": "stdout",
          "text": [
            "Drive already mounted at /content/drive; to attempt to forcibly remount, call drive.mount(\"/content/drive\", force_remount=True).\n"
          ]
        }
      ]
    },
    {
      "cell_type": "code",
      "execution_count": 41,
      "metadata": {
        "id": "u6rkv2U7qaCV"
      },
      "outputs": [],
      "source": [
        "import argparse\n",
        "import os\n",
        "import psutil\n",
        "import shutil\n",
        "import subprocess\n",
        "import time\n",
        "\n",
        "import torch\n",
        "import torch.nn as nn\n",
        "import torch.nn.parallel\n",
        "import torch.backends.cudnn as cudnn\n",
        "import torch.optim\n",
        "import torch.utils.data\n",
        "import torchvision.transforms as transforms\n",
        "import torchvision.datasets as datasets\n",
        "import resnet\n",
        "from torchsummary import summary\n",
        "device = torch.device(\"cuda\" if torch.cuda.is_available() else None)\n",
        "models_path = \"./checkpoints-2022-12-15/\""
      ]
    },
    {
      "cell_type": "code",
      "execution_count": 42,
      "metadata": {
        "id": "OFgDW3LXqaCX"
      },
      "outputs": [],
      "source": [
        "normalize = transforms.Normalize(mean=[0.485, 0.456, 0.406],\n",
        "                                    std=[0.229, 0.224, 0.225])"
      ]
    },
    {
      "cell_type": "code",
      "execution_count": 52,
      "metadata": {
        "id": "D9IYfvPQqaCY",
        "outputId": "188b3401-a3a0-467c-9323-27747f9c5774",
        "colab": {
          "base_uri": "https://localhost:8080/"
        }
      },
      "outputs": [
        {
          "output_type": "stream",
          "name": "stdout",
          "text": [
            "Files already downloaded and verified\n"
          ]
        },
        {
          "output_type": "stream",
          "name": "stderr",
          "text": [
            "/usr/local/lib/python3.8/dist-packages/torch/utils/data/dataloader.py:554: UserWarning: This DataLoader will create 10 worker processes in total. Our suggested max number of worker in current system is 2, which is smaller than what this DataLoader is going to create. Please be aware that excessive worker creation might get DataLoader running slow or even freeze, lower the worker number to avoid potential slowness/freeze if necessary.\n",
            "  warnings.warn(_create_warning_msg(\n"
          ]
        }
      ],
      "source": [
        "train_loader = torch.utils.data.DataLoader(\n",
        "    datasets.CIFAR10(root='./data', train=True, transform=transforms.Compose([\n",
        "        transforms.RandomHorizontalFlip(),\n",
        "        #transforms.RandomCrop(32, 4),\n",
        "        transforms.RandomAffine(degrees=0, translate=(0.125, 0.125)),\n",
        "        transforms.ToTensor(),\n",
        "        normalize,\n",
        "    ]), download=True),\n",
        "    batch_size=128, shuffle=True,\n",
        "    num_workers=1, pin_memory=True)\n",
        "\n",
        "val_loader = torch.utils.data.DataLoader(\n",
        "    datasets.CIFAR10(root='./data', train=False, transform=transforms.Compose([\n",
        "        transforms.ToTensor(),\n",
        "        normalize,\n",
        "    ])),\n",
        "    batch_size=256, shuffle=False,\n",
        "    num_workers=10, pin_memory=True)"
      ]
    },
    {
      "cell_type": "code",
      "execution_count": 53,
      "metadata": {
        "id": "FN7XsBpvqaCY"
      },
      "outputs": [],
      "source": [
        "normalize = transforms.Normalize(mean=[0.485, 0.456, 0.406],std=[0.229, 0.224, 0.225])\n",
        "\n",
        "val_loader = torch.utils.data.DataLoader(\n",
        "    datasets.CIFAR10(root='./data', train=False, transform=transforms.Compose([\n",
        "        transforms.ToTensor(),\n",
        "        normalize,\n",
        "    ])),\n",
        "    batch_size=64, shuffle=False,\n",
        "    num_workers=2, pin_memory=True)\n",
        "\n",
        "criterion = nn.CrossEntropyLoss().to(device)\n",
        "\n",
        "def validate(val_loader, model, criterion):\n",
        "    \"\"\"\n",
        "    Run evaluation\n",
        "    \"\"\"\n",
        "    batch_time = AverageMeter()\n",
        "    losses = AverageMeter()\n",
        "    top1 = AverageMeter()\n",
        "\n",
        "    # switch to evaluate mode\n",
        "    model.eval()\n",
        "\n",
        "    end = time.time()\n",
        "    with torch.no_grad():\n",
        "        for i, (input, target) in enumerate(val_loader):\n",
        "            target = target.to(device)\n",
        "            input_var = input.to(device)\n",
        "            target_var = target.to(device)\n",
        "\n",
        "            # if args.half:\n",
        "            #     input_var = input_var.half()\n",
        "\n",
        "            # compute output\n",
        "            output = model(input_var)\n",
        "            loss = criterion(output, target_var)\n",
        "\n",
        "            output = output.float()\n",
        "            loss = loss.float()\n",
        "\n",
        "            # measure accuracy and record loss\n",
        "            prec1 = accuracy(output.data, target)[0]\n",
        "            losses.update(loss.item(), input.size(0))\n",
        "            top1.update(prec1.item(), input.size(0))\n",
        "\n",
        "            # measure elapsed time\n",
        "            batch_time.update(time.time() - end)\n",
        "            end = time.time()\n",
        "\n",
        "            if i % 100000 == -1:\n",
        "                print('Test: [{0}/{1}]\\t'\n",
        "                      'Time {batch_time.val:.3f} ({batch_time.avg:.3f})\\t'\n",
        "                      'Loss {loss.val:.4f} ({loss.avg:.4f})\\t'\n",
        "                      'Prec@1 {top1.val:.3f} ({top1.avg:.3f})'.format(\n",
        "                          i, len(val_loader), batch_time=batch_time, loss=losses,\n",
        "                          top1=top1))\n",
        "\n",
        "    # print(' * Prec@1 {top1.avg:.3f}'\n",
        "    #       .format(top1=top1))\n",
        "\n",
        "    return top1.avg\n",
        "\n",
        "\n",
        "class AverageMeter(object):\n",
        "    \"\"\"Computes and stores the average and current value\"\"\"\n",
        "    def __init__(self):\n",
        "        self.reset()\n",
        "\n",
        "    def reset(self):\n",
        "        self.val = 0\n",
        "        self.avg = 0\n",
        "        self.sum = 0\n",
        "        self.count = 0\n",
        "\n",
        "    def update(self, val, n=1):\n",
        "        self.val = val\n",
        "        self.sum += val * n\n",
        "        self.count += n\n",
        "        self.avg = self.sum / self.count\n",
        "\n",
        "def accuracy(output, target, topk=(1,)):\n",
        "    \"\"\"Computes the precision@k for the specified values of k\"\"\"\n",
        "    maxk = max(topk)\n",
        "    batch_size = target.size(0)\n",
        "\n",
        "    _, pred = output.topk(maxk, 1, True, True)\n",
        "    pred = pred.t()\n",
        "    correct = pred.eq(target.view(1, -1).expand_as(pred))\n",
        "\n",
        "    res = []\n",
        "    for k in topk:\n",
        "        correct_k = correct[:k].view(-1).float().sum(0)\n",
        "        res.append(correct_k.mul_(100.0 / batch_size))\n",
        "    return res"
      ]
    },
    {
      "cell_type": "code",
      "execution_count": 88,
      "metadata": {
        "id": "BKH0bBWoqaCZ",
        "outputId": "9e417b18-4143-4ee9-8f00-04a958935eef",
        "colab": {
          "base_uri": "https://localhost:8080/"
        }
      },
      "outputs": [
        {
          "output_type": "stream",
          "name": "stdout",
          "text": [
            "#---------------------   Model: resnet14   -------------------------# \n",
            "\n",
            "  Learning: Batch-Norm                        Test accuracy: 48.04 \n",
            "\n",
            "  Learning: random                            Test accuracy: 66.04 \n",
            "\n",
            "  Learning: no Batch-Norm                     Test accuracy: 89.24 \n",
            "\n",
            "  Learning: All params                        Test accuracy: 90.51 \n",
            "\n",
            "\n",
            "\n",
            "#---------------------   Model: resnet32   -------------------------# \n",
            "\n",
            "  Learning: Batch-Norm                        Test accuracy: 57.43 \n",
            "\n",
            "  Learning: random                            Test accuracy: 75.74 \n",
            "\n",
            "  Learning: no Batch-Norm                     Test accuracy: 91.24 \n",
            "\n",
            "  Learning: All params                        Test accuracy: 91.86 \n",
            "\n",
            "\n",
            "\n",
            "#---------------------   Model: resnet56   -------------------------# \n",
            "\n",
            "  Learning: Batch-Norm                        Test accuracy: 62.21 \n",
            "\n",
            "  Learning: random                            Test accuracy: 77.64 \n",
            "\n",
            "  Learning: no Batch-Norm                     Test accuracy: 92.01 \n",
            "\n",
            "  Learning: All params                        Test accuracy: 93.17 \n",
            "\n",
            "\n",
            "\n",
            "#---------------------   Model: resnet110   -------------------------# \n",
            "\n",
            "  Learning: Batch-Norm                        Test accuracy: 70.27 \n",
            "\n",
            "  Learning: random                            Test accuracy: 79.78 \n",
            "\n",
            "  Learning: no Batch-Norm                     Test accuracy: 92.49 \n",
            "\n",
            "  Learning: All params                        Test accuracy: 91.99 \n",
            "\n",
            "\n",
            "\n",
            "#---------------------   Model: resnet218   -------------------------# \n",
            "\n",
            "  Learning: Batch-Norm                        Test accuracy: 76.77 \n",
            "\n",
            "  Learning: random                            Test accuracy: 81.5 \n",
            "\n",
            "  Learning: no Batch-Norm                     Test accuracy: 92.71 \n",
            "\n",
            "  Learning: All params                        Test accuracy: 92.27 \n",
            "\n",
            "\n",
            "\n",
            "#---------------------   Model: resnet434   -------------------------# \n",
            "\n",
            "  Learning: Batch-Norm                        Test accuracy: 81.83 \n",
            "\n",
            "  Learning: random                            Test accuracy: 83.34 \n",
            "\n",
            "  Learning: no Batch-Norm                     Test accuracy: 92.28 \n",
            "\n",
            "  Learning: All params                        Test accuracy: 93.01 \n",
            "\n",
            "\n",
            "\n",
            "run time:  140.48523664474487\n"
          ]
        }
      ],
      "source": [
        "experiment = {'bn':'Batch-Norm','random':'random','nobn':'no Batch-Norm','full':'All params'}\n",
        "res_ = ['resnet14', 'resnet32','resnet56', 'resnet110', 'resnet218','resnet434']\n",
        "\n",
        "import time\n",
        "t_s = time.time()\n",
        "for res in res_:\n",
        "    print(f'#---------------------   Model: {res}   -------------------------#','\\n')\n",
        "    for k in experiment.keys():\n",
        "        model_type = res + '-' + k \n",
        "        net_name = res +'()'\n",
        "        model_label = res + '-' + experiment[k] \n",
        "        # print(net_name,model_type, model_label)\n",
        "        exec(f'model = resnet.{net_name}')\n",
        "        model.load_state_dict(torch.load(models_path + model_type + '/model.th')['state_dict'])\n",
        "        model.eval()\n",
        "        model.to(device)\n",
        "       \n",
        "        val_perc = validate(val_loader, model, criterion)\n",
        "        print(f'  Learning: {experiment[k]:<20}              Test accuracy: {val_perc}','\\n')\n",
        "    print('\\n')\n",
        "print(\"run time: \", time.time() - t_s)   "
      ]
    },
    {
      "cell_type": "code",
      "execution_count": 89,
      "metadata": {
        "outputId": "127b36c1-529e-4040-e23a-3c8655212015",
        "colab": {
          "base_uri": "https://localhost:8080/"
        },
        "id": "MMOs-nTH7AOJ"
      },
      "outputs": [
        {
          "output_type": "stream",
          "name": "stdout",
          "text": [
            "#---------------------   Model: resnet14   -------------------------# \n",
            "\n",
            "  Learning: Batch-Norm                        Test accuracy: 48.04 \n",
            "\n",
            "  Learning: random                            Test accuracy: 66.04 \n",
            "\n",
            "  Learning: no Batch-Norm                     Test accuracy: 89.24 \n",
            "\n",
            "  Learning: All params                        Test accuracy: 90.51 \n",
            "\n",
            "\n",
            "\n",
            "#---------------------   Model: resnet32   -------------------------# \n",
            "\n",
            "  Learning: Batch-Norm                        Test accuracy: 57.43 \n",
            "\n",
            "  Learning: random                            Test accuracy: 75.74 \n",
            "\n",
            "  Learning: no Batch-Norm                     Test accuracy: 91.24 \n",
            "\n",
            "  Learning: All params                        Test accuracy: 91.86 \n",
            "\n",
            "\n",
            "\n",
            "#---------------------   Model: resnet218   -------------------------# \n",
            "\n",
            "  Learning: Batch-Norm                        Test accuracy: 76.77 \n",
            "\n",
            "  Learning: random                            Test accuracy: 81.5 \n",
            "\n",
            "  Learning: no Batch-Norm                     Test accuracy: 92.71 \n",
            "\n",
            "  Learning: All params                        Test accuracy: 92.27 \n",
            "\n",
            "\n",
            "\n",
            "run time:  53.343852281570435\n"
          ]
        }
      ],
      "source": [
        "experiment = {'bn':'Batch-Norm','random':'random','nobn':'no Batch-Norm','full':'All params'}\n",
        "res_ = ['resnet14', 'resnet32', 'resnet218']\n",
        "\n",
        "import time\n",
        "t_s = time.time()\n",
        "for res in res_:\n",
        "    print(f'#---------------------   Model: {res}   -------------------------#','\\n')\n",
        "    for k in experiment.keys():\n",
        "        model_type = res + '-' + k \n",
        "        net_name = res +'()'\n",
        "        model_label = res + '-' + experiment[k] \n",
        "        # print(net_name,model_type, model_label)\n",
        "        exec(f'model = resnet.{net_name}')\n",
        "        model.load_state_dict(torch.load(models_path + model_type + '/model.th')['state_dict'])\n",
        "        model.eval()\n",
        "        model.to(device)\n",
        "       \n",
        "        val_perc = validate(val_loader, model, criterion)\n",
        "        print(f'  Learning: {experiment[k]:<20}              Test accuracy: {val_perc}','\\n')\n",
        "    print('\\n')\n",
        "print(\"run time: \", time.time() - t_s)       \n"
      ]
    },
    {
      "cell_type": "code",
      "source": [],
      "metadata": {
        "id": "CE9mc5MA7IQu"
      },
      "execution_count": null,
      "outputs": []
    }
  ],
  "metadata": {
    "kernelspec": {
      "display_name": "Python 3.8.9 64-bit",
      "language": "python",
      "name": "python3"
    },
    "language_info": {
      "codemirror_mode": {
        "name": "ipython",
        "version": 3
      },
      "file_extension": ".py",
      "mimetype": "text/x-python",
      "name": "python",
      "nbconvert_exporter": "python",
      "pygments_lexer": "ipython3",
      "version": "3.8.9"
    },
    "orig_nbformat": 4,
    "vscode": {
      "interpreter": {
        "hash": "31f2aee4e71d21fbe5cf8b01ff0e069b9275f58929596ceb00d14d90e3e16cd6"
      }
    },
    "colab": {
      "provenance": []
    },
    "accelerator": "GPU",
    "gpuClass": "standard"
  },
  "nbformat": 4,
  "nbformat_minor": 0
}